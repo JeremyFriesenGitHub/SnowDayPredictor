{
 "cells": [
  {
   "cell_type": "code",
   "execution_count": 1,
   "id": "1d9646ca",
   "metadata": {
    "_cell_guid": "b1076dfc-b9ad-4769-8c92-a6c4dae69d19",
    "_uuid": "8f2839f25d086af736a60e9eeb907d3b93b6e0e5",
    "execution": {
     "iopub.execute_input": "2023-10-25T17:58:50.082452Z",
     "iopub.status.busy": "2023-10-25T17:58:50.082026Z",
     "iopub.status.idle": "2023-10-25T17:58:50.473121Z",
     "shell.execute_reply": "2023-10-25T17:58:50.471755Z"
    },
    "papermill": {
     "duration": 0.399129,
     "end_time": "2023-10-25T17:58:50.475377",
     "exception": false,
     "start_time": "2023-10-25T17:58:50.076248",
     "status": "completed"
    },
    "tags": []
   },
   "outputs": [
    {
     "name": "stdout",
     "output_type": "stream",
     "text": [
      "/kaggle/input/ottawa-weather/stats_ai.csv\n"
     ]
    }
   ],
   "source": [
    "# This Python 3 environment comes with many helpful analytics libraries installed\n",
    "# It is defined by the kaggle/python Docker image: https://github.com/kaggle/docker-python\n",
    "# For example, here's several helpful packages to load\n",
    "\n",
    "import numpy as np # linear algebra\n",
    "import pandas as pd # data processing, CSV file I/O (e.g. pd.read_csv)\n",
    "\n",
    "# Input data files are available in the read-only \"../input/\" directory\n",
    "# For example, running this (by clicking run or pressing Shift+Enter) will list all files under the input directory\n",
    "\n",
    "import os\n",
    "\n",
    "# List files in the directory\n",
    "for dirname, _, filenames in os.walk('/kaggle/input'):\n",
    "    for filename in filenames:\n",
    "        print(os.path.join(dirname, filename))\n",
    "# You can write up to 20GB to the current directory (/kaggle/working/) that gets preserved as output when you create a version using \"Save & Run All\" \n",
    "# You can also write temporary files to /kaggle/temp/, but they won't be saved outside of the current session"
   ]
  },
  {
   "cell_type": "code",
   "execution_count": 2,
   "id": "7044353c",
   "metadata": {
    "execution": {
     "iopub.execute_input": "2023-10-25T17:58:50.485430Z",
     "iopub.status.busy": "2023-10-25T17:58:50.484712Z",
     "iopub.status.idle": "2023-10-25T17:58:51.615943Z",
     "shell.execute_reply": "2023-10-25T17:58:51.614902Z"
    },
    "papermill": {
     "duration": 1.138463,
     "end_time": "2023-10-25T17:58:51.618795",
     "exception": false,
     "start_time": "2023-10-25T17:58:50.480332",
     "status": "completed"
    },
    "tags": []
   },
   "outputs": [],
   "source": [
    "#imports \n",
    "from sklearn.preprocessing import LabelEncoder\n",
    "from sklearn.naive_bayes import GaussianNB"
   ]
  },
  {
   "cell_type": "code",
   "execution_count": 3,
   "id": "0d759b40",
   "metadata": {
    "execution": {
     "iopub.execute_input": "2023-10-25T17:58:51.626864Z",
     "iopub.status.busy": "2023-10-25T17:58:51.626435Z",
     "iopub.status.idle": "2023-10-25T17:58:52.033264Z",
     "shell.execute_reply": "2023-10-25T17:58:52.032085Z"
    },
    "papermill": {
     "duration": 0.413823,
     "end_time": "2023-10-25T17:58:52.035794",
     "exception": false,
     "start_time": "2023-10-25T17:58:51.621971",
     "status": "completed"
    },
    "tags": []
   },
   "outputs": [
    {
     "data": {
      "text/html": [
       "<div>\n",
       "<style scoped>\n",
       "    .dataframe tbody tr th:only-of-type {\n",
       "        vertical-align: middle;\n",
       "    }\n",
       "\n",
       "    .dataframe tbody tr th {\n",
       "        vertical-align: top;\n",
       "    }\n",
       "\n",
       "    .dataframe thead th {\n",
       "        text-align: right;\n",
       "    }\n",
       "</style>\n",
       "<table border=\"1\" class=\"dataframe\">\n",
       "  <thead>\n",
       "    <tr style=\"text-align: right;\">\n",
       "      <th></th>\n",
       "      <th>avg_temperature</th>\n",
       "      <th>min_windchill</th>\n",
       "      <th>rain</th>\n",
       "      <th>snow</th>\n",
       "      <th>snow_on_ground</th>\n",
       "      <th>bool_snow_day</th>\n",
       "    </tr>\n",
       "  </thead>\n",
       "  <tbody>\n",
       "    <tr>\n",
       "      <th>0</th>\n",
       "      <td>5.00</td>\n",
       "      <td>5.00</td>\n",
       "      <td>0.0</td>\n",
       "      <td>0.0</td>\n",
       "      <td>0.0</td>\n",
       "      <td>0</td>\n",
       "    </tr>\n",
       "    <tr>\n",
       "      <th>1</th>\n",
       "      <td>5.15</td>\n",
       "      <td>5.15</td>\n",
       "      <td>7.8</td>\n",
       "      <td>0.0</td>\n",
       "      <td>0.0</td>\n",
       "      <td>0</td>\n",
       "    </tr>\n",
       "    <tr>\n",
       "      <th>2</th>\n",
       "      <td>9.60</td>\n",
       "      <td>9.60</td>\n",
       "      <td>6.0</td>\n",
       "      <td>0.0</td>\n",
       "      <td>0.0</td>\n",
       "      <td>0</td>\n",
       "    </tr>\n",
       "    <tr>\n",
       "      <th>3</th>\n",
       "      <td>14.85</td>\n",
       "      <td>14.85</td>\n",
       "      <td>5.6</td>\n",
       "      <td>0.0</td>\n",
       "      <td>0.0</td>\n",
       "      <td>0</td>\n",
       "    </tr>\n",
       "    <tr>\n",
       "      <th>4</th>\n",
       "      <td>12.85</td>\n",
       "      <td>12.85</td>\n",
       "      <td>0.0</td>\n",
       "      <td>0.0</td>\n",
       "      <td>0.0</td>\n",
       "      <td>0</td>\n",
       "    </tr>\n",
       "    <tr>\n",
       "      <th>...</th>\n",
       "      <td>...</td>\n",
       "      <td>...</td>\n",
       "      <td>...</td>\n",
       "      <td>...</td>\n",
       "      <td>...</td>\n",
       "      <td>...</td>\n",
       "    </tr>\n",
       "    <tr>\n",
       "      <th>5039</th>\n",
       "      <td>-8.19</td>\n",
       "      <td>-19.00</td>\n",
       "      <td>0.0</td>\n",
       "      <td>2.0</td>\n",
       "      <td>45.0</td>\n",
       "      <td>0</td>\n",
       "    </tr>\n",
       "    <tr>\n",
       "      <th>5040</th>\n",
       "      <td>-9.69</td>\n",
       "      <td>-19.00</td>\n",
       "      <td>0.0</td>\n",
       "      <td>2.0</td>\n",
       "      <td>45.0</td>\n",
       "      <td>0</td>\n",
       "    </tr>\n",
       "    <tr>\n",
       "      <th>5041</th>\n",
       "      <td>-11.70</td>\n",
       "      <td>-28.00</td>\n",
       "      <td>0.0</td>\n",
       "      <td>3.8</td>\n",
       "      <td>43.0</td>\n",
       "      <td>0</td>\n",
       "    </tr>\n",
       "    <tr>\n",
       "      <th>5042</th>\n",
       "      <td>-12.90</td>\n",
       "      <td>-26.00</td>\n",
       "      <td>0.0</td>\n",
       "      <td>4.0</td>\n",
       "      <td>39.0</td>\n",
       "      <td>0</td>\n",
       "    </tr>\n",
       "    <tr>\n",
       "      <th>5043</th>\n",
       "      <td>-6.50</td>\n",
       "      <td>-17.00</td>\n",
       "      <td>0.0</td>\n",
       "      <td>9.4</td>\n",
       "      <td>32.0</td>\n",
       "      <td>1</td>\n",
       "    </tr>\n",
       "  </tbody>\n",
       "</table>\n",
       "<p>5044 rows × 6 columns</p>\n",
       "</div>"
      ],
      "text/plain": [
       "      avg_temperature  min_windchill  rain  snow  snow_on_ground  \\\n",
       "0                5.00           5.00   0.0   0.0             0.0   \n",
       "1                5.15           5.15   7.8   0.0             0.0   \n",
       "2                9.60           9.60   6.0   0.0             0.0   \n",
       "3               14.85          14.85   5.6   0.0             0.0   \n",
       "4               12.85          12.85   0.0   0.0             0.0   \n",
       "...               ...            ...   ...   ...             ...   \n",
       "5039            -8.19         -19.00   0.0   2.0            45.0   \n",
       "5040            -9.69         -19.00   0.0   2.0            45.0   \n",
       "5041           -11.70         -28.00   0.0   3.8            43.0   \n",
       "5042           -12.90         -26.00   0.0   4.0            39.0   \n",
       "5043            -6.50         -17.00   0.0   9.4            32.0   \n",
       "\n",
       "      bool_snow_day  \n",
       "0                 0  \n",
       "1                 0  \n",
       "2                 0  \n",
       "3                 0  \n",
       "4                 0  \n",
       "...             ...  \n",
       "5039              0  \n",
       "5040              0  \n",
       "5041              0  \n",
       "5042              0  \n",
       "5043              1  \n",
       "\n",
       "[5044 rows x 6 columns]"
      ]
     },
     "execution_count": 3,
     "metadata": {},
     "output_type": "execute_result"
    }
   ],
   "source": [
    "#Read and drop the date\n",
    "df = pd.read_csv('/kaggle/input/ottawa-weather/stats_ai.csv')\n",
    "df = df.drop('date',axis='columns')\n",
    "for index, row in df.iterrows():\n",
    "    if pd.isna(row['min_windchill']) or row['min_windchill'] is None:\n",
    "        # If it's NaN or None, fill it with the value from 'avg_temperature'\n",
    "        df.at[index, 'min_windchill'] = row['avg_temperature']\n",
    "df.fillna(0, inplace=True)\n",
    "df"
   ]
  },
  {
   "cell_type": "code",
   "execution_count": 4,
   "id": "df3b6934",
   "metadata": {
    "execution": {
     "iopub.execute_input": "2023-10-25T17:58:52.044625Z",
     "iopub.status.busy": "2023-10-25T17:58:52.043664Z",
     "iopub.status.idle": "2023-10-25T17:58:52.053829Z",
     "shell.execute_reply": "2023-10-25T17:58:52.052665Z"
    },
    "papermill": {
     "duration": 0.017,
     "end_time": "2023-10-25T17:58:52.056127",
     "exception": false,
     "start_time": "2023-10-25T17:58:52.039127",
     "status": "completed"
    },
    "tags": []
   },
   "outputs": [
    {
     "data": {
      "text/plain": [
       "0       0\n",
       "1       0\n",
       "2       0\n",
       "3       0\n",
       "4       0\n",
       "       ..\n",
       "5039    0\n",
       "5040    0\n",
       "5041    0\n",
       "5042    0\n",
       "5043    1\n",
       "Name: bool_snow_day, Length: 5044, dtype: int64"
      ]
     },
     "execution_count": 4,
     "metadata": {},
     "output_type": "execute_result"
    }
   ],
   "source": [
    "# Create a new dataframe for inputs\n",
    "inputs = df.drop('bool_snow_day', axis='columns')\n",
    "target = df['bool_snow_day']\n",
    "target"
   ]
  },
  {
   "cell_type": "code",
   "execution_count": 5,
   "id": "9ef536e6",
   "metadata": {
    "execution": {
     "iopub.execute_input": "2023-10-25T17:58:52.065478Z",
     "iopub.status.busy": "2023-10-25T17:58:52.064405Z",
     "iopub.status.idle": "2023-10-25T17:58:52.073935Z",
     "shell.execute_reply": "2023-10-25T17:58:52.072719Z"
    },
    "papermill": {
     "duration": 0.01722,
     "end_time": "2023-10-25T17:58:52.076870",
     "exception": false,
     "start_time": "2023-10-25T17:58:52.059650",
     "status": "completed"
    },
    "tags": []
   },
   "outputs": [
    {
     "data": {
      "text/plain": [
       "array([0, 0, 0, ..., 0, 0, 1])"
      ]
     },
     "execution_count": 5,
     "metadata": {},
     "output_type": "execute_result"
    }
   ],
   "source": [
    "# Encode the target variable\n",
    "target = LabelEncoder().fit_transform(target)\n",
    "target"
   ]
  },
  {
   "cell_type": "code",
   "execution_count": 6,
   "id": "469c0a8f",
   "metadata": {
    "execution": {
     "iopub.execute_input": "2023-10-25T17:58:52.086454Z",
     "iopub.status.busy": "2023-10-25T17:58:52.085830Z",
     "iopub.status.idle": "2023-10-25T17:58:52.105297Z",
     "shell.execute_reply": "2023-10-25T17:58:52.104202Z"
    },
    "papermill": {
     "duration": 0.027421,
     "end_time": "2023-10-25T17:58:52.107786",
     "exception": false,
     "start_time": "2023-10-25T17:58:52.080365",
     "status": "completed"
    },
    "tags": []
   },
   "outputs": [
    {
     "data": {
      "text/html": [
       "<style>#sk-container-id-1 {color: black;background-color: white;}#sk-container-id-1 pre{padding: 0;}#sk-container-id-1 div.sk-toggleable {background-color: white;}#sk-container-id-1 label.sk-toggleable__label {cursor: pointer;display: block;width: 100%;margin-bottom: 0;padding: 0.3em;box-sizing: border-box;text-align: center;}#sk-container-id-1 label.sk-toggleable__label-arrow:before {content: \"▸\";float: left;margin-right: 0.25em;color: #696969;}#sk-container-id-1 label.sk-toggleable__label-arrow:hover:before {color: black;}#sk-container-id-1 div.sk-estimator:hover label.sk-toggleable__label-arrow:before {color: black;}#sk-container-id-1 div.sk-toggleable__content {max-height: 0;max-width: 0;overflow: hidden;text-align: left;background-color: #f0f8ff;}#sk-container-id-1 div.sk-toggleable__content pre {margin: 0.2em;color: black;border-radius: 0.25em;background-color: #f0f8ff;}#sk-container-id-1 input.sk-toggleable__control:checked~div.sk-toggleable__content {max-height: 200px;max-width: 100%;overflow: auto;}#sk-container-id-1 input.sk-toggleable__control:checked~label.sk-toggleable__label-arrow:before {content: \"▾\";}#sk-container-id-1 div.sk-estimator input.sk-toggleable__control:checked~label.sk-toggleable__label {background-color: #d4ebff;}#sk-container-id-1 div.sk-label input.sk-toggleable__control:checked~label.sk-toggleable__label {background-color: #d4ebff;}#sk-container-id-1 input.sk-hidden--visually {border: 0;clip: rect(1px 1px 1px 1px);clip: rect(1px, 1px, 1px, 1px);height: 1px;margin: -1px;overflow: hidden;padding: 0;position: absolute;width: 1px;}#sk-container-id-1 div.sk-estimator {font-family: monospace;background-color: #f0f8ff;border: 1px dotted black;border-radius: 0.25em;box-sizing: border-box;margin-bottom: 0.5em;}#sk-container-id-1 div.sk-estimator:hover {background-color: #d4ebff;}#sk-container-id-1 div.sk-parallel-item::after {content: \"\";width: 100%;border-bottom: 1px solid gray;flex-grow: 1;}#sk-container-id-1 div.sk-label:hover label.sk-toggleable__label {background-color: #d4ebff;}#sk-container-id-1 div.sk-serial::before {content: \"\";position: absolute;border-left: 1px solid gray;box-sizing: border-box;top: 0;bottom: 0;left: 50%;z-index: 0;}#sk-container-id-1 div.sk-serial {display: flex;flex-direction: column;align-items: center;background-color: white;padding-right: 0.2em;padding-left: 0.2em;position: relative;}#sk-container-id-1 div.sk-item {position: relative;z-index: 1;}#sk-container-id-1 div.sk-parallel {display: flex;align-items: stretch;justify-content: center;background-color: white;position: relative;}#sk-container-id-1 div.sk-item::before, #sk-container-id-1 div.sk-parallel-item::before {content: \"\";position: absolute;border-left: 1px solid gray;box-sizing: border-box;top: 0;bottom: 0;left: 50%;z-index: -1;}#sk-container-id-1 div.sk-parallel-item {display: flex;flex-direction: column;z-index: 1;position: relative;background-color: white;}#sk-container-id-1 div.sk-parallel-item:first-child::after {align-self: flex-end;width: 50%;}#sk-container-id-1 div.sk-parallel-item:last-child::after {align-self: flex-start;width: 50%;}#sk-container-id-1 div.sk-parallel-item:only-child::after {width: 0;}#sk-container-id-1 div.sk-dashed-wrapped {border: 1px dashed gray;margin: 0 0.4em 0.5em 0.4em;box-sizing: border-box;padding-bottom: 0.4em;background-color: white;}#sk-container-id-1 div.sk-label label {font-family: monospace;font-weight: bold;display: inline-block;line-height: 1.2em;}#sk-container-id-1 div.sk-label-container {text-align: center;}#sk-container-id-1 div.sk-container {/* jupyter's `normalize.less` sets `[hidden] { display: none; }` but bootstrap.min.css set `[hidden] { display: none !important; }` so we also need the `!important` here to be able to override the default hidden behavior on the sphinx rendered scikit-learn.org. See: https://github.com/scikit-learn/scikit-learn/issues/21755 */display: inline-block !important;position: relative;}#sk-container-id-1 div.sk-text-repr-fallback {display: none;}</style><div id=\"sk-container-id-1\" class=\"sk-top-container\"><div class=\"sk-text-repr-fallback\"><pre>GaussianNB()</pre><b>In a Jupyter environment, please rerun this cell to show the HTML representation or trust the notebook. <br />On GitHub, the HTML representation is unable to render, please try loading this page with nbviewer.org.</b></div><div class=\"sk-container\" hidden><div class=\"sk-item\"><div class=\"sk-estimator sk-toggleable\"><input class=\"sk-toggleable__control sk-hidden--visually\" id=\"sk-estimator-id-1\" type=\"checkbox\" checked><label for=\"sk-estimator-id-1\" class=\"sk-toggleable__label sk-toggleable__label-arrow\">GaussianNB</label><div class=\"sk-toggleable__content\"><pre>GaussianNB()</pre></div></div></div></div></div>"
      ],
      "text/plain": [
       "GaussianNB()"
      ]
     },
     "execution_count": 6,
     "metadata": {},
     "output_type": "execute_result"
    }
   ],
   "source": [
    "Classifier = GaussianNB()\n",
    "Classifier.fit(inputs,target)\n"
   ]
  },
  {
   "cell_type": "code",
   "execution_count": 7,
   "id": "c14a7b4e",
   "metadata": {
    "execution": {
     "iopub.execute_input": "2023-10-25T17:58:52.117295Z",
     "iopub.status.busy": "2023-10-25T17:58:52.116943Z",
     "iopub.status.idle": "2023-10-25T17:58:52.224525Z",
     "shell.execute_reply": "2023-10-25T17:58:52.223130Z"
    },
    "papermill": {
     "duration": 0.115666,
     "end_time": "2023-10-25T17:58:52.227126",
     "exception": false,
     "start_time": "2023-10-25T17:58:52.111460",
     "status": "completed"
    },
    "tags": []
   },
   "outputs": [
    {
     "data": {
      "text/plain": [
       "0.9266455194290246"
      ]
     },
     "execution_count": 7,
     "metadata": {},
     "output_type": "execute_result"
    }
   ],
   "source": [
    "Classifier.score(inputs,target)"
   ]
  },
  {
   "cell_type": "code",
   "execution_count": 8,
   "id": "b79e770c",
   "metadata": {
    "execution": {
     "iopub.execute_input": "2023-10-25T17:58:52.236685Z",
     "iopub.status.busy": "2023-10-25T17:58:52.236267Z",
     "iopub.status.idle": "2023-10-25T17:58:52.247725Z",
     "shell.execute_reply": "2023-10-25T17:58:52.246410Z"
    },
    "papermill": {
     "duration": 0.019068,
     "end_time": "2023-10-25T17:58:52.250202",
     "exception": false,
     "start_time": "2023-10-25T17:58:52.231134",
     "status": "completed"
    },
    "tags": []
   },
   "outputs": [
    {
     "data": {
      "text/plain": [
       "array([0])"
      ]
     },
     "execution_count": 8,
     "metadata": {},
     "output_type": "execute_result"
    }
   ],
   "source": [
    "input_data = input_data = pd.DataFrame({\n",
    "    'avg_temperature': [-20],\n",
    "    'min_windchill': [-35],\n",
    "    'rain': [15],\n",
    "    'snow': [0],\n",
    "    'snow_on_ground': [5]\n",
    "})\n",
    "\n",
    "\n",
    "\n",
    "\n",
    "Predictions = Classifier.predict(input_data)\n",
    "Predictions"
   ]
  }
 ],
 "metadata": {
  "kernelspec": {
   "display_name": "Python 3",
   "language": "python",
   "name": "python3"
  },
  "language_info": {
   "codemirror_mode": {
    "name": "ipython",
    "version": 3
   },
   "file_extension": ".py",
   "mimetype": "text/x-python",
   "name": "python",
   "nbconvert_exporter": "python",
   "pygments_lexer": "ipython3",
   "version": "3.10.12"
  },
  "papermill": {
   "default_parameters": {},
   "duration": 6.025271,
   "end_time": "2023-10-25T17:58:52.876372",
   "environment_variables": {},
   "exception": null,
   "input_path": "__notebook__.ipynb",
   "output_path": "__notebook__.ipynb",
   "parameters": {},
   "start_time": "2023-10-25T17:58:46.851101",
   "version": "2.4.0"
  }
 },
 "nbformat": 4,
 "nbformat_minor": 5
}
